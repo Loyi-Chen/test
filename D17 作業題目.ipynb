{
 "cells": [
  {
   "cell_type": "code",
   "execution_count": 1,
   "metadata": {},
   "outputs": [
    {
     "name": "stdout",
     "output_type": "stream",
     "text": [
      "Q1. 在速度較慢的時候，可以先從哪邊開始檢查？\n",
      "A: 記憶體是否不足\n",
      "Q2. 資料過⼤時應採取什麼⽅式讓記憶體占⽤量下降？\n",
      "A: 將整數型態 int 改成 uint、將浮點數型態 float64 改成 float32 減少記憶體正用空間\n"
     ]
    }
   ],
   "source": [
    "print('Q1. 在速度較慢的時候，可以先從哪邊開始檢查？')\n",
    "print('A: 記憶體是否不足')\n",
    "print('Q2. 資料過⼤時應採取什麼⽅式讓記憶體占⽤量下降？')\n",
    "print('A: 將整數型態 int 改成 uint、將浮點數型態 float64 改成 float32 減少記憶體正用空間')\n"
   ]
  },
  {
   "cell_type": "code",
   "execution_count": null,
   "metadata": {},
   "outputs": [],
   "source": []
  }
 ],
 "metadata": {
  "kernelspec": {
   "display_name": "Python 3",
   "language": "python",
   "name": "python3"
  },
  "language_info": {
   "codemirror_mode": {
    "name": "ipython",
    "version": 3
   },
   "file_extension": ".py",
   "mimetype": "text/x-python",
   "name": "python",
   "nbconvert_exporter": "python",
   "pygments_lexer": "ipython3",
   "version": "3.7.6"
  }
 },
 "nbformat": 4,
 "nbformat_minor": 4
}
