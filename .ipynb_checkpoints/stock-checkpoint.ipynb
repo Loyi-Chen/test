{
 "cells": [
  {
   "cell_type": "code",
   "execution_count": 1,
   "metadata": {},
   "outputs": [
    {
     "data": {
      "text/plain": [
       "<matplotlib.collections.LineCollection at 0x11d058350>"
      ]
     },
     "execution_count": 1,
     "metadata": {},
     "output_type": "execute_result"
    },
    {
     "data": {
      "image/png": "[encoded data removed]",
      "text/plain": [
       "<Figure size 432x288 with 1 Axes>"
      ]
     },
     "metadata": {
      "needs_background": "light"
     },
     "output_type": "display_data"
    }
   ],
   "source": [
    "import numpy as np \n",
    "import pylab as plt\n",
    "# Read data from file into variables \n",
    "c, n, x1, x2 = np.loadtxt('特別股_發行時間圖 2.txt', unpack=True ,encoding = 'utf-8')\n",
    "# Map value to color \n",
    "color_mapper = np.vectorize(lambda x: {0:'#000080', 1: '#6495ED'}.get(x)) \n",
    "\n",
    "# Plot a line for every line of data \n",
    "plt.hlines(c, x1, x2, colors=color_mapper(n)) "
   ]
  },
  {
   "cell_type": "code",
   "execution_count": 2,
   "metadata": {},
   "outputs": [],
   "source": [
    "# c = fp['證券代碼'][0:]\n",
    "# n = fp['特別股'][0:]\n",
    "# x = fp['上市時間'][0:]\n",
    "# y = fp['下市時間'][0:]"
   ]
  },
  {
   "cell_type": "code",
   "execution_count": null,
   "metadata": {},
   "outputs": [],
   "source": []
  },
  {
   "cell_type": "code",
   "execution_count": null,
   "metadata": {},
   "outputs": [],
   "source": []
  }
 ],
 "metadata": {
  "kernelspec": {
   "display_name": "Python 3",
   "language": "python",
   "name": "python3"
  },
  "language_info": {
   "codemirror_mode": {
    "name": "ipython",
    "version": 3
   },
   "file_extension": ".py",
   "mimetype": "text/x-python",
   "name": "python",
   "nbconvert_exporter": "python",
   "pygments_lexer": "ipython3",
   "version": "3.7.6"
  }
 },
 "nbformat": 4,
 "nbformat_minor": 4
}
